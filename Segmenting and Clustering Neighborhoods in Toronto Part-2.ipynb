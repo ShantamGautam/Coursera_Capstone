{
 "cells": [
  {
   "cell_type": "markdown",
   "metadata": {},
   "source": [
    "# Segmenting and Clustering Neighborhoods in Toronto Part-2"
   ]
  },
  {
   "cell_type": "markdown",
   "metadata": {},
   "source": [
    "Import libraries"
   ]
  },
  {
   "cell_type": "code",
   "execution_count": 1,
   "metadata": {},
   "outputs": [
    {
     "name": "stdout",
     "output_type": "stream",
     "text": [
      "Collecting package metadata (current_repodata.json): ...working... done\n",
      "Solving environment: ...working... done\n",
      "\n",
      "# All requested packages already installed.\n",
      "\n",
      "Collecting package metadata (current_repodata.json): ...working... done\n",
      "Solving environment: ...working... done\n",
      "\n",
      "# All requested packages already installed.\n",
      "\n",
      "Libraries imported.\n"
     ]
    }
   ],
   "source": [
    "import numpy as np # library to handle data in a vectorized manner\n",
    "import pandas as pd\n",
    "import folium\n",
    "!conda install -c conda-forge geopy --yes \n",
    "from geopy.geocoders import Nominatim # module to convert an address into latitude and longitude values\n",
    "!conda install -c conda-forge lxml --yes\n",
    "import requests\n",
    "import lxml.html as lh\n",
    "print(\"Libraries imported.\")"
   ]
  },
  {
   "cell_type": "markdown",
   "metadata": {},
   "source": [
    "Scrap data from Wikipedia page into a DataFrame (Based on Previous Part)"
   ]
  },
  {
   "cell_type": "code",
   "execution_count": 2,
   "metadata": {},
   "outputs": [
    {
     "name": "stdout",
     "output_type": "stream",
     "text": [
      "1:\"Postal Code\n",
      "\"\n",
      "2:\"Borough\n",
      "\"\n",
      "3:\"Neighbourhood\n",
      "\"\n"
     ]
    },
    {
     "data": {
      "text/html": [
       "<div>\n",
       "<style scoped>\n",
       "    .dataframe tbody tr th:only-of-type {\n",
       "        vertical-align: middle;\n",
       "    }\n",
       "\n",
       "    .dataframe tbody tr th {\n",
       "        vertical-align: top;\n",
       "    }\n",
       "\n",
       "    .dataframe thead th {\n",
       "        text-align: right;\n",
       "    }\n",
       "</style>\n",
       "<table border=\"1\" class=\"dataframe\">\n",
       "  <thead>\n",
       "    <tr style=\"text-align: right;\">\n",
       "      <th></th>\n",
       "      <th>PostalCode</th>\n",
       "      <th>Borough</th>\n",
       "      <th>Neighborhood</th>\n",
       "    </tr>\n",
       "  </thead>\n",
       "  <tbody>\n",
       "    <tr>\n",
       "      <th>0</th>\n",
       "      <td>M3A</td>\n",
       "      <td>North York</td>\n",
       "      <td>Parkwoods</td>\n",
       "    </tr>\n",
       "    <tr>\n",
       "      <th>1</th>\n",
       "      <td>M4A</td>\n",
       "      <td>North York</td>\n",
       "      <td>Victoria Village</td>\n",
       "    </tr>\n",
       "    <tr>\n",
       "      <th>2</th>\n",
       "      <td>M5A</td>\n",
       "      <td>Downtown Toronto</td>\n",
       "      <td>Regent Park, Harbourfront</td>\n",
       "    </tr>\n",
       "    <tr>\n",
       "      <th>3</th>\n",
       "      <td>M6A</td>\n",
       "      <td>North York</td>\n",
       "      <td>Lawrence Manor, Lawrence Heights</td>\n",
       "    </tr>\n",
       "    <tr>\n",
       "      <th>4</th>\n",
       "      <td>M7A</td>\n",
       "      <td>Downtown Toronto</td>\n",
       "      <td>Queen's Park, Ontario Provincial Government</td>\n",
       "    </tr>\n",
       "  </tbody>\n",
       "</table>\n",
       "</div>"
      ],
      "text/plain": [
       "  PostalCode           Borough                                 Neighborhood\n",
       "0        M3A        North York                                    Parkwoods\n",
       "1        M4A        North York                             Victoria Village\n",
       "2        M5A  Downtown Toronto                    Regent Park, Harbourfront\n",
       "3        M6A        North York             Lawrence Manor, Lawrence Heights\n",
       "4        M7A  Downtown Toronto  Queen's Park, Ontario Provincial Government"
      ]
     },
     "execution_count": 2,
     "metadata": {},
     "output_type": "execute_result"
    }
   ],
   "source": [
    "url='https://en.wikipedia.org/wiki/List_of_postal_codes_of_Canada:_M'\n",
    "#Create a handle, page, to handle the contents of the website\n",
    "page = requests.get(url)\n",
    "#Store the contents of the website under doc\n",
    "doc = lh.fromstring(page.content)\n",
    "#Parse data that are stored between <tr>..</tr> of HTML\n",
    "tr_elements = doc.xpath('//tr')\n",
    "r = requests.get(url)\n",
    "\n",
    "#Create empty list\n",
    "col=[]\n",
    "i=0\n",
    "#For each row, store each first element (header) and an empty list\n",
    "for t in tr_elements[0]:\n",
    "    i+=1\n",
    "    name=t.text_content()\n",
    "    print ('%d:\"%s\"'%(i,name))\n",
    "    col.append((name,[]))\n",
    "\n",
    "size_of_col = 3\n",
    "for j in range(1,len(tr_elements)):\n",
    "    #T is our j'th row\n",
    "    T=tr_elements[j]\n",
    "    \n",
    "    #If row is not of size 3, the //tr data is not from our table \n",
    "    if len(T)!=size_of_col:\n",
    "        break\n",
    "    \n",
    "    #i is the index of our column\n",
    "    i=0\n",
    "    \n",
    "    #Iterate through each element of the row\n",
    "    for t in T.iterchildren():\n",
    "        data=t.text_content() \n",
    "        #Check if row is empty\n",
    "        if i>0:\n",
    "        #Convert any numerical value to integers\n",
    "            try:\n",
    "                data=int(data)\n",
    "            except:\n",
    "                pass\n",
    "        #Append the data to the empty list of the i'th column\n",
    "        col[i][1].append(data)\n",
    "        #Increment i for the next column\n",
    "        i+=1\n",
    "        \n",
    "Dict={title:column for (title,column) in col}\n",
    "df=pd.DataFrame(Dict)\n",
    "df = df.replace(r'\\n','', regex=True) \n",
    "df.columns = ['PostalCode', 'Borough', 'Neighborhood']\n",
    "df.drop(df.tail(1).index,inplace=True)\n",
    "\n",
    "df = df[df.Borough != \"Not assigned\"].reset_index(drop=True)\n",
    "\n",
    "df = df.replace(r'/',', ', regex=True) \n",
    "\n",
    "for index, row in df.iterrows():\n",
    "    if row[\"Neighborhood\"] == \"Not assigned\":\n",
    "        row[\"Neighborhood\"] = row[\"Borough\"]\n",
    "df.head()"
   ]
  },
  {
   "cell_type": "markdown",
   "metadata": {},
   "source": [
    "Defining the new Dataframe Format"
   ]
  },
  {
   "cell_type": "code",
   "execution_count": 3,
   "metadata": {},
   "outputs": [
    {
     "data": {
      "text/plain": [
       "(103, 5)"
      ]
     },
     "execution_count": 3,
     "metadata": {},
     "output_type": "execute_result"
    }
   ],
   "source": [
    "df[\"Latitude\"] = \"\"\n",
    "df[\"Longitude\"] = \"\"\n",
    "df.shape"
   ]
  },
  {
   "cell_type": "code",
   "execution_count": 4,
   "metadata": {},
   "outputs": [
    {
     "data": {
      "text/plain": [
       "0           Parkwoods\n",
       "1    Victoria Village\n",
       "2         Regent Park\n",
       "3      Lawrence Manor\n",
       "4        Queen's Park\n",
       "Name: Neighborhood, dtype: object"
      ]
     },
     "execution_count": 4,
     "metadata": {},
     "output_type": "execute_result"
    }
   ],
   "source": [
    "# Cleaning the neighborhood with multiple values ( Selecting the first one)\n",
    "df[\"Neighborhood\"] = df[\"Neighborhood\"].str.split(\",\", n = 1, expand = True) \n",
    "df[\"Neighborhood\"] = df[\"Neighborhood\"].str.split(\"-\", n = 1, expand = True) \n",
    "df[\"Neighborhood\"].head(5)"
   ]
  },
  {
   "cell_type": "code",
   "execution_count": 5,
   "metadata": {},
   "outputs": [
    {
     "data": {
      "text/html": [
       "<div>\n",
       "<style scoped>\n",
       "    .dataframe tbody tr th:only-of-type {\n",
       "        vertical-align: middle;\n",
       "    }\n",
       "\n",
       "    .dataframe tbody tr th {\n",
       "        vertical-align: top;\n",
       "    }\n",
       "\n",
       "    .dataframe thead th {\n",
       "        text-align: right;\n",
       "    }\n",
       "</style>\n",
       "<table border=\"1\" class=\"dataframe\">\n",
       "  <thead>\n",
       "    <tr style=\"text-align: right;\">\n",
       "      <th></th>\n",
       "      <th>PostalCode</th>\n",
       "      <th>Borough</th>\n",
       "      <th>Neighborhood</th>\n",
       "      <th>Latitude</th>\n",
       "      <th>Longitude</th>\n",
       "    </tr>\n",
       "  </thead>\n",
       "  <tbody>\n",
       "    <tr>\n",
       "      <th>0</th>\n",
       "      <td>M3A</td>\n",
       "      <td>North York</td>\n",
       "      <td>Parkwoods</td>\n",
       "      <td></td>\n",
       "      <td></td>\n",
       "    </tr>\n",
       "    <tr>\n",
       "      <th>1</th>\n",
       "      <td>M4A</td>\n",
       "      <td>North York</td>\n",
       "      <td>Victoria Village</td>\n",
       "      <td></td>\n",
       "      <td></td>\n",
       "    </tr>\n",
       "    <tr>\n",
       "      <th>2</th>\n",
       "      <td>M5A</td>\n",
       "      <td>Downtown Toronto</td>\n",
       "      <td>Regent Park</td>\n",
       "      <td></td>\n",
       "      <td></td>\n",
       "    </tr>\n",
       "    <tr>\n",
       "      <th>3</th>\n",
       "      <td>M6A</td>\n",
       "      <td>North York</td>\n",
       "      <td>Lawrence Manor</td>\n",
       "      <td></td>\n",
       "      <td></td>\n",
       "    </tr>\n",
       "    <tr>\n",
       "      <th>4</th>\n",
       "      <td>M7A</td>\n",
       "      <td>Downtown Toronto</td>\n",
       "      <td>Queen's Park</td>\n",
       "      <td></td>\n",
       "      <td></td>\n",
       "    </tr>\n",
       "    <tr>\n",
       "      <th>5</th>\n",
       "      <td>M9A</td>\n",
       "      <td>Etobicoke</td>\n",
       "      <td>Islington Avenue</td>\n",
       "      <td></td>\n",
       "      <td></td>\n",
       "    </tr>\n",
       "    <tr>\n",
       "      <th>6</th>\n",
       "      <td>M1B</td>\n",
       "      <td>Scarborough</td>\n",
       "      <td>Malvern</td>\n",
       "      <td></td>\n",
       "      <td></td>\n",
       "    </tr>\n",
       "    <tr>\n",
       "      <th>7</th>\n",
       "      <td>M3B</td>\n",
       "      <td>North York</td>\n",
       "      <td>Don Mills</td>\n",
       "      <td></td>\n",
       "      <td></td>\n",
       "    </tr>\n",
       "    <tr>\n",
       "      <th>8</th>\n",
       "      <td>M4B</td>\n",
       "      <td>East York</td>\n",
       "      <td>Parkview Hill</td>\n",
       "      <td></td>\n",
       "      <td></td>\n",
       "    </tr>\n",
       "    <tr>\n",
       "      <th>9</th>\n",
       "      <td>M5B</td>\n",
       "      <td>Downtown Toronto</td>\n",
       "      <td>Garden District</td>\n",
       "      <td></td>\n",
       "      <td></td>\n",
       "    </tr>\n",
       "    <tr>\n",
       "      <th>10</th>\n",
       "      <td>M6B</td>\n",
       "      <td>North York</td>\n",
       "      <td>Glencairn</td>\n",
       "      <td></td>\n",
       "      <td></td>\n",
       "    </tr>\n",
       "    <tr>\n",
       "      <th>11</th>\n",
       "      <td>M9B</td>\n",
       "      <td>Etobicoke</td>\n",
       "      <td>West Deane Park</td>\n",
       "      <td></td>\n",
       "      <td></td>\n",
       "    </tr>\n",
       "    <tr>\n",
       "      <th>12</th>\n",
       "      <td>M1C</td>\n",
       "      <td>Scarborough</td>\n",
       "      <td>Rouge Hill</td>\n",
       "      <td></td>\n",
       "      <td></td>\n",
       "    </tr>\n",
       "    <tr>\n",
       "      <th>13</th>\n",
       "      <td>M3C</td>\n",
       "      <td>North York</td>\n",
       "      <td>Don Mills</td>\n",
       "      <td></td>\n",
       "      <td></td>\n",
       "    </tr>\n",
       "    <tr>\n",
       "      <th>14</th>\n",
       "      <td>M4C</td>\n",
       "      <td>East York</td>\n",
       "      <td>Woodbine Heights</td>\n",
       "      <td></td>\n",
       "      <td></td>\n",
       "    </tr>\n",
       "    <tr>\n",
       "      <th>15</th>\n",
       "      <td>M5C</td>\n",
       "      <td>Downtown Toronto</td>\n",
       "      <td>St. James Town</td>\n",
       "      <td></td>\n",
       "      <td></td>\n",
       "    </tr>\n",
       "    <tr>\n",
       "      <th>16</th>\n",
       "      <td>M6C</td>\n",
       "      <td>York</td>\n",
       "      <td>Humewood</td>\n",
       "      <td></td>\n",
       "      <td></td>\n",
       "    </tr>\n",
       "    <tr>\n",
       "      <th>17</th>\n",
       "      <td>M9C</td>\n",
       "      <td>Etobicoke</td>\n",
       "      <td>Eringate</td>\n",
       "      <td></td>\n",
       "      <td></td>\n",
       "    </tr>\n",
       "    <tr>\n",
       "      <th>18</th>\n",
       "      <td>M1E</td>\n",
       "      <td>Scarborough</td>\n",
       "      <td>Guildwood</td>\n",
       "      <td></td>\n",
       "      <td></td>\n",
       "    </tr>\n",
       "    <tr>\n",
       "      <th>19</th>\n",
       "      <td>M4E</td>\n",
       "      <td>East Toronto</td>\n",
       "      <td>The Beaches</td>\n",
       "      <td></td>\n",
       "      <td></td>\n",
       "    </tr>\n",
       "    <tr>\n",
       "      <th>20</th>\n",
       "      <td>M5E</td>\n",
       "      <td>Downtown Toronto</td>\n",
       "      <td>Berczy Park</td>\n",
       "      <td></td>\n",
       "      <td></td>\n",
       "    </tr>\n",
       "    <tr>\n",
       "      <th>21</th>\n",
       "      <td>M6E</td>\n",
       "      <td>York</td>\n",
       "      <td>Caledonia</td>\n",
       "      <td></td>\n",
       "      <td></td>\n",
       "    </tr>\n",
       "    <tr>\n",
       "      <th>22</th>\n",
       "      <td>M1G</td>\n",
       "      <td>Scarborough</td>\n",
       "      <td>Woburn</td>\n",
       "      <td></td>\n",
       "      <td></td>\n",
       "    </tr>\n",
       "    <tr>\n",
       "      <th>23</th>\n",
       "      <td>M4G</td>\n",
       "      <td>East York</td>\n",
       "      <td>Leaside</td>\n",
       "      <td></td>\n",
       "      <td></td>\n",
       "    </tr>\n",
       "    <tr>\n",
       "      <th>24</th>\n",
       "      <td>M5G</td>\n",
       "      <td>Downtown Toronto</td>\n",
       "      <td>Central Bay Street</td>\n",
       "      <td></td>\n",
       "      <td></td>\n",
       "    </tr>\n",
       "    <tr>\n",
       "      <th>25</th>\n",
       "      <td>M6G</td>\n",
       "      <td>Downtown Toronto</td>\n",
       "      <td>Christie</td>\n",
       "      <td></td>\n",
       "      <td></td>\n",
       "    </tr>\n",
       "    <tr>\n",
       "      <th>26</th>\n",
       "      <td>M1H</td>\n",
       "      <td>Scarborough</td>\n",
       "      <td>Cedarbrae</td>\n",
       "      <td></td>\n",
       "      <td></td>\n",
       "    </tr>\n",
       "    <tr>\n",
       "      <th>27</th>\n",
       "      <td>M2H</td>\n",
       "      <td>North York</td>\n",
       "      <td>Hillcrest Village</td>\n",
       "      <td></td>\n",
       "      <td></td>\n",
       "    </tr>\n",
       "    <tr>\n",
       "      <th>28</th>\n",
       "      <td>M3H</td>\n",
       "      <td>North York</td>\n",
       "      <td>Bathurst Manor</td>\n",
       "      <td></td>\n",
       "      <td></td>\n",
       "    </tr>\n",
       "    <tr>\n",
       "      <th>29</th>\n",
       "      <td>M4H</td>\n",
       "      <td>East York</td>\n",
       "      <td>Thorncliffe Park</td>\n",
       "      <td></td>\n",
       "      <td></td>\n",
       "    </tr>\n",
       "    <tr>\n",
       "      <th>30</th>\n",
       "      <td>M5H</td>\n",
       "      <td>Downtown Toronto</td>\n",
       "      <td>Richmond</td>\n",
       "      <td></td>\n",
       "      <td></td>\n",
       "    </tr>\n",
       "    <tr>\n",
       "      <th>31</th>\n",
       "      <td>M6H</td>\n",
       "      <td>West Toronto</td>\n",
       "      <td>Dufferin</td>\n",
       "      <td></td>\n",
       "      <td></td>\n",
       "    </tr>\n",
       "    <tr>\n",
       "      <th>32</th>\n",
       "      <td>M1J</td>\n",
       "      <td>Scarborough</td>\n",
       "      <td>Scarborough Village</td>\n",
       "      <td></td>\n",
       "      <td></td>\n",
       "    </tr>\n",
       "    <tr>\n",
       "      <th>33</th>\n",
       "      <td>M2J</td>\n",
       "      <td>North York</td>\n",
       "      <td>Fairview</td>\n",
       "      <td></td>\n",
       "      <td></td>\n",
       "    </tr>\n",
       "    <tr>\n",
       "      <th>34</th>\n",
       "      <td>M3J</td>\n",
       "      <td>North York</td>\n",
       "      <td>Northwood Park</td>\n",
       "      <td></td>\n",
       "      <td></td>\n",
       "    </tr>\n",
       "    <tr>\n",
       "      <th>35</th>\n",
       "      <td>M4J</td>\n",
       "      <td>East York</td>\n",
       "      <td>East Toronto</td>\n",
       "      <td></td>\n",
       "      <td></td>\n",
       "    </tr>\n",
       "    <tr>\n",
       "      <th>36</th>\n",
       "      <td>M5J</td>\n",
       "      <td>Downtown Toronto</td>\n",
       "      <td>Harbourfront East</td>\n",
       "      <td></td>\n",
       "      <td></td>\n",
       "    </tr>\n",
       "    <tr>\n",
       "      <th>37</th>\n",
       "      <td>M6J</td>\n",
       "      <td>West Toronto</td>\n",
       "      <td>Little Portugal</td>\n",
       "      <td></td>\n",
       "      <td></td>\n",
       "    </tr>\n",
       "    <tr>\n",
       "      <th>38</th>\n",
       "      <td>M1K</td>\n",
       "      <td>Scarborough</td>\n",
       "      <td>Kennedy Park</td>\n",
       "      <td></td>\n",
       "      <td></td>\n",
       "    </tr>\n",
       "    <tr>\n",
       "      <th>39</th>\n",
       "      <td>M2K</td>\n",
       "      <td>North York</td>\n",
       "      <td>Bayview Village</td>\n",
       "      <td></td>\n",
       "      <td></td>\n",
       "    </tr>\n",
       "    <tr>\n",
       "      <th>40</th>\n",
       "      <td>M3K</td>\n",
       "      <td>North York</td>\n",
       "      <td>Downsview</td>\n",
       "      <td></td>\n",
       "      <td></td>\n",
       "    </tr>\n",
       "    <tr>\n",
       "      <th>41</th>\n",
       "      <td>M4K</td>\n",
       "      <td>East Toronto</td>\n",
       "      <td>The Danforth West</td>\n",
       "      <td></td>\n",
       "      <td></td>\n",
       "    </tr>\n",
       "    <tr>\n",
       "      <th>42</th>\n",
       "      <td>M5K</td>\n",
       "      <td>Downtown Toronto</td>\n",
       "      <td>Toronto Dominion Centre</td>\n",
       "      <td></td>\n",
       "      <td></td>\n",
       "    </tr>\n",
       "    <tr>\n",
       "      <th>43</th>\n",
       "      <td>M6K</td>\n",
       "      <td>West Toronto</td>\n",
       "      <td>Brockton</td>\n",
       "      <td></td>\n",
       "      <td></td>\n",
       "    </tr>\n",
       "    <tr>\n",
       "      <th>44</th>\n",
       "      <td>M1L</td>\n",
       "      <td>Scarborough</td>\n",
       "      <td>Golden Mile</td>\n",
       "      <td></td>\n",
       "      <td></td>\n",
       "    </tr>\n",
       "    <tr>\n",
       "      <th>45</th>\n",
       "      <td>M2L</td>\n",
       "      <td>North York</td>\n",
       "      <td>York Mills</td>\n",
       "      <td></td>\n",
       "      <td></td>\n",
       "    </tr>\n",
       "    <tr>\n",
       "      <th>46</th>\n",
       "      <td>M3L</td>\n",
       "      <td>North York</td>\n",
       "      <td>Downsview</td>\n",
       "      <td></td>\n",
       "      <td></td>\n",
       "    </tr>\n",
       "    <tr>\n",
       "      <th>47</th>\n",
       "      <td>M4L</td>\n",
       "      <td>East Toronto</td>\n",
       "      <td>India Bazaar</td>\n",
       "      <td></td>\n",
       "      <td></td>\n",
       "    </tr>\n",
       "    <tr>\n",
       "      <th>48</th>\n",
       "      <td>M5L</td>\n",
       "      <td>Downtown Toronto</td>\n",
       "      <td>Commerce Court</td>\n",
       "      <td></td>\n",
       "      <td></td>\n",
       "    </tr>\n",
       "    <tr>\n",
       "      <th>49</th>\n",
       "      <td>M6L</td>\n",
       "      <td>North York</td>\n",
       "      <td>North Park</td>\n",
       "      <td></td>\n",
       "      <td></td>\n",
       "    </tr>\n",
       "  </tbody>\n",
       "</table>\n",
       "</div>"
      ],
      "text/plain": [
       "   PostalCode           Borough             Neighborhood Latitude Longitude\n",
       "0         M3A        North York                Parkwoods                   \n",
       "1         M4A        North York         Victoria Village                   \n",
       "2         M5A  Downtown Toronto              Regent Park                   \n",
       "3         M6A        North York           Lawrence Manor                   \n",
       "4         M7A  Downtown Toronto             Queen's Park                   \n",
       "5         M9A         Etobicoke         Islington Avenue                   \n",
       "6         M1B       Scarborough                  Malvern                   \n",
       "7         M3B        North York                Don Mills                   \n",
       "8         M4B         East York            Parkview Hill                   \n",
       "9         M5B  Downtown Toronto          Garden District                   \n",
       "10        M6B        North York                Glencairn                   \n",
       "11        M9B         Etobicoke          West Deane Park                   \n",
       "12        M1C       Scarborough               Rouge Hill                   \n",
       "13        M3C        North York                Don Mills                   \n",
       "14        M4C         East York         Woodbine Heights                   \n",
       "15        M5C  Downtown Toronto           St. James Town                   \n",
       "16        M6C              York                 Humewood                   \n",
       "17        M9C         Etobicoke                 Eringate                   \n",
       "18        M1E       Scarborough                Guildwood                   \n",
       "19        M4E      East Toronto              The Beaches                   \n",
       "20        M5E  Downtown Toronto              Berczy Park                   \n",
       "21        M6E              York                Caledonia                   \n",
       "22        M1G       Scarborough                   Woburn                   \n",
       "23        M4G         East York                  Leaside                   \n",
       "24        M5G  Downtown Toronto       Central Bay Street                   \n",
       "25        M6G  Downtown Toronto                 Christie                   \n",
       "26        M1H       Scarborough                Cedarbrae                   \n",
       "27        M2H        North York        Hillcrest Village                   \n",
       "28        M3H        North York           Bathurst Manor                   \n",
       "29        M4H         East York         Thorncliffe Park                   \n",
       "30        M5H  Downtown Toronto                 Richmond                   \n",
       "31        M6H      West Toronto                 Dufferin                   \n",
       "32        M1J       Scarborough      Scarborough Village                   \n",
       "33        M2J        North York                 Fairview                   \n",
       "34        M3J        North York           Northwood Park                   \n",
       "35        M4J         East York             East Toronto                   \n",
       "36        M5J  Downtown Toronto        Harbourfront East                   \n",
       "37        M6J      West Toronto          Little Portugal                   \n",
       "38        M1K       Scarborough             Kennedy Park                   \n",
       "39        M2K        North York          Bayview Village                   \n",
       "40        M3K        North York                Downsview                   \n",
       "41        M4K      East Toronto        The Danforth West                   \n",
       "42        M5K  Downtown Toronto  Toronto Dominion Centre                   \n",
       "43        M6K      West Toronto                 Brockton                   \n",
       "44        M1L       Scarborough              Golden Mile                   \n",
       "45        M2L        North York               York Mills                   \n",
       "46        M3L        North York                Downsview                   \n",
       "47        M4L      East Toronto             India Bazaar                   \n",
       "48        M5L  Downtown Toronto           Commerce Court                   \n",
       "49        M6L        North York               North Park                   "
      ]
     },
     "execution_count": 5,
     "metadata": {},
     "output_type": "execute_result"
    }
   ],
   "source": [
    "df.head(50)"
   ]
  },
  {
   "cell_type": "markdown",
   "metadata": {},
   "source": [
    "To get coordinates and populate the df"
   ]
  },
  {
   "cell_type": "code",
   "execution_count": 6,
   "metadata": {},
   "outputs": [],
   "source": [
    "df1 = df.loc[0:25]\n",
    "df2 = df.loc[26:50]\n",
    "df3 = df.loc[51:75]\n",
    "df4 = df.loc[76:102]"
   ]
  },
  {
   "cell_type": "code",
   "execution_count": 7,
   "metadata": {},
   "outputs": [
    {
     "name": "stdout",
     "output_type": "stream",
     "text": [
      "The geograpical coordinate of Parkwoods, Toronto are 43.7611243, -79.3240594.\n"
     ]
    },
    {
     "name": "stderr",
     "output_type": "stream",
     "text": [
      "C:\\Users\\Shantam Gautam\\anaconda3\\lib\\site-packages\\pandas\\core\\indexing.py:671: SettingWithCopyWarning: \n",
      "A value is trying to be set on a copy of a slice from a DataFrame\n",
      "\n",
      "See the caveats in the documentation: https://pandas.pydata.org/pandas-docs/stable/user_guide/indexing.html#returning-a-view-versus-a-copy\n",
      "  self._setitem_with_indexer(indexer, value)\n",
      "<ipython-input-7-ff0f5384fede>:11: SettingWithCopyWarning: \n",
      "A value is trying to be set on a copy of a slice from a DataFrame\n",
      "\n",
      "See the caveats in the documentation: https://pandas.pydata.org/pandas-docs/stable/user_guide/indexing.html#returning-a-view-versus-a-copy\n",
      "  df1.loc[index, 'Latitude'] = latitude\n",
      "<ipython-input-7-ff0f5384fede>:12: SettingWithCopyWarning: \n",
      "A value is trying to be set on a copy of a slice from a DataFrame\n",
      "\n",
      "See the caveats in the documentation: https://pandas.pydata.org/pandas-docs/stable/user_guide/indexing.html#returning-a-view-versus-a-copy\n",
      "  df1.loc[index, 'Longitude'] = longitude\n"
     ]
    },
    {
     "name": "stdout",
     "output_type": "stream",
     "text": [
      "The geograpical coordinate of Victoria Village, Toronto are 43.732658, -79.3111892.\n",
      "The geograpical coordinate of Regent Park, Toronto are 43.6607056, -79.3604569.\n",
      "The geograpical coordinate of Lawrence Manor, Toronto are 43.7220788, -79.4375067.\n",
      "The geograpical coordinate of Queen's Park, Toronto are 43.659659, -79.3903399.\n",
      "The geograpical coordinate of Islington Avenue, Toronto are 43.6707789, -79.5348844.\n",
      "The geograpical coordinate of Malvern, Toronto are 43.8091955, -79.2217008.\n",
      "The geograpical coordinate of Don Mills, Toronto are 43.775347, -79.3459439.\n",
      "The geograpical coordinate of Parkview Hill, Toronto are 43.7062977, -79.3219073.\n",
      "The geograpical coordinate of Garden District, Toronto are 43.6564995, -79.3771141.\n",
      "The geograpical coordinate of Glencairn, Toronto are 43.7087117, -79.4406853.\n",
      "The geograpical coordinate of West Deane Park, Toronto are 43.6631995, -79.5685684.\n",
      "The geograpical coordinate of Rouge Hill, Toronto are 43.7802711, -79.1304992.\n",
      "The geograpical coordinate of Don Mills, Toronto are 43.775347, -79.3459439.\n",
      "The geograpical coordinate of Woodbine Heights, Toronto are 43.69992, -79.319279.\n",
      "The geograpical coordinate of St. James Town, Toronto are 43.6694032, -79.3727041.\n",
      "The geograpical coordinate of Humewood, Toronto are 43.6857205, -79.4251158.\n",
      "The geograpical coordinate of Eringate, Toronto are 43.6622732, -79.5765162.\n",
      "The geograpical coordinate of Guildwood, Toronto are 43.7552251, -79.1982293.\n",
      "The geograpical coordinate of The Beaches, Toronto are 43.6710244, -79.296712.\n",
      "The geograpical coordinate of Berczy Park, Toronto are 43.64798435, -79.37539591138858.\n",
      "The geograpical coordinate of Caledonia, Toronto are 43.6923702, -79.4653558.\n",
      "The geograpical coordinate of Woburn, Toronto are 43.7598243, -79.2252908.\n",
      "The geograpical coordinate of Leaside, Toronto are 43.7047983, -79.3680904.\n",
      "The geograpical coordinate of Central Bay Street, Toronto are 43.6730889, -79.3907511.\n",
      "The geograpical coordinate of Christie, Toronto are 43.6641106, -79.4184051.\n"
     ]
    }
   ],
   "source": [
    "# Need to drop those Neighborhood that the geocode does not find\n",
    "to_drop_unknown = []\n",
    "geolocator = Nominatim(user_agent=\"ny_explorer\")\n",
    "for index, row in df1.iterrows():\n",
    "    address = row['Neighborhood'] + ', Toronto'\n",
    "    try:\n",
    "        location = geolocator.geocode(address)\n",
    "        latitude = location.latitude\n",
    "        longitude = location.longitude\n",
    "        print('The geograpical coordinate of {} are {}, {}.'.format(address, latitude, longitude))\n",
    "        df1.loc[index, 'Latitude'] = latitude\n",
    "        df1.loc[index, 'Longitude'] = longitude\n",
    "    except AttributeError:\n",
    "        print('Cannot do: {}, will drop index: {}'.format(address, index))\n",
    "        to_drop_unknown.append(index)"
   ]
  },
  {
   "cell_type": "code",
   "execution_count": 8,
   "metadata": {},
   "outputs": [
    {
     "name": "stdout",
     "output_type": "stream",
     "text": [
      "The geograpical coordinate of Cedarbrae, Toronto are 43.75646655, -79.22669244258802.\n"
     ]
    },
    {
     "name": "stderr",
     "output_type": "stream",
     "text": [
      "<ipython-input-8-bdd38c9d5d55>:9: SettingWithCopyWarning: \n",
      "A value is trying to be set on a copy of a slice from a DataFrame\n",
      "\n",
      "See the caveats in the documentation: https://pandas.pydata.org/pandas-docs/stable/user_guide/indexing.html#returning-a-view-versus-a-copy\n",
      "  df2.loc[index, 'Latitude'] = latitude\n",
      "<ipython-input-8-bdd38c9d5d55>:10: SettingWithCopyWarning: \n",
      "A value is trying to be set on a copy of a slice from a DataFrame\n",
      "\n",
      "See the caveats in the documentation: https://pandas.pydata.org/pandas-docs/stable/user_guide/indexing.html#returning-a-view-versus-a-copy\n",
      "  df2.loc[index, 'Longitude'] = longitude\n"
     ]
    },
    {
     "name": "stdout",
     "output_type": "stream",
     "text": [
      "The geograpical coordinate of Hillcrest Village, Toronto are 43.6816953, -79.4257118.\n",
      "The geograpical coordinate of Bathurst Manor, Toronto are 43.6655189, -79.4119373.\n",
      "The geograpical coordinate of Thorncliffe Park, Toronto are 43.704553, -79.3454074.\n",
      "The geograpical coordinate of Richmond, Toronto are 43.6485875, -79.3913729.\n",
      "The geograpical coordinate of Dufferin, Toronto are 43.6602019, -79.4357191.\n",
      "The geograpical coordinate of Scarborough Village, Toronto are 43.7437422, -79.2116324.\n",
      "The geograpical coordinate of Fairview, Toronto are 43.777758500000004, -79.34429375180316.\n",
      "The geograpical coordinate of Northwood Park, Toronto are 43.7541351, -79.50448.\n",
      "The geograpical coordinate of East Toronto, Toronto are 43.65238435, -79.38356765.\n",
      "The geograpical coordinate of Harbourfront East, Toronto are 43.6400801, -79.3801495.\n",
      "The geograpical coordinate of Little Portugal, Toronto are 43.64741325, -79.43111632546047.\n",
      "The geograpical coordinate of Kennedy Park, Toronto are 43.724878, -79.2539688.\n",
      "The geograpical coordinate of Bayview Village, Toronto are 43.7691966, -79.3766617.\n",
      "The geograpical coordinate of Downsview, Toronto are 43.7492988, -79.462248.\n",
      "The geograpical coordinate of The Danforth West, Toronto are 43.6864333, -79.3003555.\n",
      "The geograpical coordinate of Toronto Dominion Centre, Toronto are 43.6473768, -79.3813719429129.\n",
      "The geograpical coordinate of Brockton, Toronto are 43.6509173, -79.4400216.\n",
      "The geograpical coordinate of Golden Mile, Toronto are 43.7278414, -79.2876217.\n",
      "The geograpical coordinate of York Mills, Toronto are 43.7440391, -79.406657.\n",
      "The geograpical coordinate of Downsview, Toronto are 43.7492988, -79.462248.\n",
      "The geograpical coordinate of India Bazaar, Toronto are 43.6722231, -79.3235032.\n",
      "The geograpical coordinate of Commerce Court, Toronto are 43.648163800000006, -79.37776594404383.\n",
      "The geograpical coordinate of North Park, Toronto are 43.7186899, -79.4775337.\n",
      "The geograpical coordinate of Humber Summit, Toronto are 43.7600778, -79.5717598.\n"
     ]
    }
   ],
   "source": [
    "geolocator = Nominatim(user_agent=\"ny_explorer2\")\n",
    "for index, row in df2.iterrows():\n",
    "    address = row['Neighborhood'] + ', Toronto'\n",
    "    try:\n",
    "        location = geolocator.geocode(address)\n",
    "        latitude = location.latitude\n",
    "        longitude = location.longitude\n",
    "        print('The geograpical coordinate of {} are {}, {}.'.format(address, latitude, longitude))\n",
    "        df2.loc[index, 'Latitude'] = latitude\n",
    "        df2.loc[index, 'Longitude'] = longitude\n",
    "    except AttributeError:\n",
    "        print('Cannot do: {}, will drop index: {}'.format(address, index))\n",
    "        to_drop_unknown.append(index)"
   ]
  },
  {
   "cell_type": "code",
   "execution_count": 9,
   "metadata": {},
   "outputs": [
    {
     "name": "stdout",
     "output_type": "stream",
     "text": [
      "The geograpical coordinate of Cliffside, Toronto are 43.7111699, -79.2481769.\n"
     ]
    },
    {
     "name": "stderr",
     "output_type": "stream",
     "text": [
      "<ipython-input-9-989a6405256f>:9: SettingWithCopyWarning: \n",
      "A value is trying to be set on a copy of a slice from a DataFrame\n",
      "\n",
      "See the caveats in the documentation: https://pandas.pydata.org/pandas-docs/stable/user_guide/indexing.html#returning-a-view-versus-a-copy\n",
      "  df3.loc[index, 'Latitude'] = latitude\n",
      "<ipython-input-9-989a6405256f>:10: SettingWithCopyWarning: \n",
      "A value is trying to be set on a copy of a slice from a DataFrame\n",
      "\n",
      "See the caveats in the documentation: https://pandas.pydata.org/pandas-docs/stable/user_guide/indexing.html#returning-a-view-versus-a-copy\n",
      "  df3.loc[index, 'Longitude'] = longitude\n"
     ]
    },
    {
     "name": "stdout",
     "output_type": "stream",
     "text": [
      "The geograpical coordinate of Willowdale, Toronto are 43.7615095, -79.4109234.\n",
      "The geograpical coordinate of Downsview, Toronto are 43.7492988, -79.462248.\n",
      "The geograpical coordinate of Studio District, Toronto are 43.64958515, -79.39068322559326.\n",
      "The geograpical coordinate of Bedford Park, Toronto are 43.7373876, -79.4109253.\n",
      "Cannot do: Del Ray, Toronto, will drop index: 56\n",
      "The geograpical coordinate of Humberlea, Toronto are 43.7213166, -79.5331605.\n",
      "The geograpical coordinate of Birch Cliff, Toronto are 43.6918051, -79.2644935.\n",
      "The geograpical coordinate of Willowdale, Toronto are 43.7615095, -79.4109234.\n",
      "The geograpical coordinate of Downsview, Toronto are 43.7492988, -79.462248.\n",
      "The geograpical coordinate of Lawrence Park, Toronto are 43.729199, -79.4032525.\n",
      "The geograpical coordinate of Roselawn, Toronto are 43.7001239, -79.450928.\n",
      "The geograpical coordinate of Runnymede, Toronto are 43.6517026, -79.4759978.\n",
      "The geograpical coordinate of Weston, Toronto are 43.7001608, -79.5162474.\n",
      "The geograpical coordinate of Dorset Park, Toronto are 43.7528467, -79.282067.\n",
      "The geograpical coordinate of York Mills West, Toronto are 43.7440391, -79.406657.\n",
      "The geograpical coordinate of Davisville North, Toronto are 43.697936, -79.3972908.\n",
      "The geograpical coordinate of Forest Hill North & West, Toronto are 43.701028, -79.4255998.\n",
      "The geograpical coordinate of High Park, Toronto are 43.6538668, -79.4668644.\n",
      "The geograpical coordinate of Westmount, Toronto are 43.6936399, -79.5210426.\n",
      "The geograpical coordinate of Wexford, Toronto are 43.7453767, -79.2947155.\n",
      "The geograpical coordinate of Willowdale, Toronto are 43.7615095, -79.4109234.\n",
      "The geograpical coordinate of North Toronto West, Toronto are 43.6465466, -79.4195263.\n",
      "The geograpical coordinate of The Annex, Toronto are 43.6703377, -79.407117.\n",
      "The geograpical coordinate of Parkdale, Toronto are 43.6404954, -79.4368965.\n"
     ]
    }
   ],
   "source": [
    "geolocator = Nominatim(user_agent=\"ny_explorer3\")\n",
    "for index, row in df3.iterrows():\n",
    "    address = row['Neighborhood'] + ', Toronto'\n",
    "    try:\n",
    "        location = geolocator.geocode(address)\n",
    "        latitude = location.latitude\n",
    "        longitude = location.longitude\n",
    "        print('The geograpical coordinate of {} are {}, {}.'.format(address, latitude, longitude))\n",
    "        df3.loc[index, 'Latitude'] = latitude\n",
    "        df3.loc[index, 'Longitude'] = longitude\n",
    "    except AttributeError:\n",
    "        print('Cannot do: {}, will drop index: {}'.format(address, index))\n",
    "        to_drop_unknown.append(index)"
   ]
  },
  {
   "cell_type": "code",
   "execution_count": 10,
   "metadata": {},
   "outputs": [
    {
     "name": "stdout",
     "output_type": "stream",
     "text": [
      "Cannot do: Canada Post Gateway Processing Centre, Toronto, will drop index: 76\n",
      "The geograpical coordinate of Kingsview Village, Toronto are 43.6995391, -79.5563459.\n"
     ]
    },
    {
     "name": "stderr",
     "output_type": "stream",
     "text": [
      "<ipython-input-10-fd771227c2c1>:9: SettingWithCopyWarning: \n",
      "A value is trying to be set on a copy of a slice from a DataFrame\n",
      "\n",
      "See the caveats in the documentation: https://pandas.pydata.org/pandas-docs/stable/user_guide/indexing.html#returning-a-view-versus-a-copy\n",
      "  df4.loc[index, 'Latitude'] = latitude\n",
      "<ipython-input-10-fd771227c2c1>:10: SettingWithCopyWarning: \n",
      "A value is trying to be set on a copy of a slice from a DataFrame\n",
      "\n",
      "See the caveats in the documentation: https://pandas.pydata.org/pandas-docs/stable/user_guide/indexing.html#returning-a-view-versus-a-copy\n",
      "  df4.loc[index, 'Longitude'] = longitude\n"
     ]
    },
    {
     "name": "stdout",
     "output_type": "stream",
     "text": [
      "The geograpical coordinate of Agincourt, Toronto are 43.7853531, -79.2785494.\n",
      "The geograpical coordinate of Davisville, Toronto are 43.697936, -79.3972908.\n",
      "The geograpical coordinate of University of Toronto, Toronto are 43.663461999999996, -79.39775965337452.\n",
      "The geograpical coordinate of Runnymede, Toronto are 43.6517026, -79.4759978.\n",
      "The geograpical coordinate of Clarks Corners, Toronto are 43.7964095, -79.2977951.\n",
      "The geograpical coordinate of Moore Park, Toronto are 43.6903876, -79.3832965.\n",
      "The geograpical coordinate of Kensington Market, Toronto are 43.6552136, -79.4022604.\n",
      "The geograpical coordinate of Milliken, Toronto are 43.8231743, -79.3017626.\n",
      "The geograpical coordinate of Summerhill West, Toronto are 43.6816776, -79.3905037.\n",
      "The geograpical coordinate of CN Tower, Toronto are 43.6425637, -79.38708718320467.\n",
      "The geograpical coordinate of New Toronto, Toronto are 43.6007625, -79.505264.\n",
      "The geograpical coordinate of South Steeles, Toronto are 43.8161778, -79.3145378.\n",
      "The geograpical coordinate of Steeles West, Toronto are 43.8161778, -79.3145378.\n",
      "The geograpical coordinate of Rosedale, Toronto are 43.6783556, -79.3807457.\n",
      "Cannot do: Stn A PO Boxes, Toronto, will drop index: 92\n",
      "The geograpical coordinate of Alderwood, Toronto are 43.6017173, -79.5452325.\n",
      "The geograpical coordinate of Northwest, Toronto are 43.6534817, -79.3839347.\n",
      "The geograpical coordinate of Upper Rouge, Toronto are 43.8049304, -79.1658374.\n",
      "The geograpical coordinate of St. James Town, Toronto are 43.6694032, -79.3727041.\n",
      "The geograpical coordinate of First Canadian Place, Toronto are 43.6487681, -79.38169179283025.\n",
      "The geograpical coordinate of The Kingsway, Toronto are 43.6473811, -79.5113328.\n",
      "The geograpical coordinate of Church and Wellesley, Toronto are 43.6655242, -79.3838011.\n",
      "Cannot do: Business reply mail Processing Centre, Toronto, will drop index: 100\n",
      "The geograpical coordinate of Old Mill South, Toronto are 43.649826, -79.4943338.\n",
      "The geograpical coordinate of Mimico NW, Toronto are 43.6166773, -79.4968048.\n"
     ]
    }
   ],
   "source": [
    "geolocator = Nominatim(user_agent=\"ny_explorer4\")\n",
    "for index, row in df4.iterrows():\n",
    "    address = row['Neighborhood'] + ', Toronto'\n",
    "    try:\n",
    "        location = geolocator.geocode(address)\n",
    "        latitude = location.latitude\n",
    "        longitude = location.longitude\n",
    "        print('The geograpical coordinate of {} are {}, {}.'.format(address, latitude, longitude))\n",
    "        df4.loc[index, 'Latitude'] = latitude\n",
    "        df4.loc[index, 'Longitude'] = longitude\n",
    "    except AttributeError:\n",
    "        print('Cannot do: {}, will drop index: {}'.format(address, index))\n",
    "        to_drop_unknown.append(index)"
   ]
  },
  {
   "cell_type": "code",
   "execution_count": 11,
   "metadata": {},
   "outputs": [
    {
     "name": "stdout",
     "output_type": "stream",
     "text": [
      "(26, 5)\n",
      "(25, 5)\n",
      "(25, 5)\n",
      "(27, 5)\n"
     ]
    }
   ],
   "source": [
    "print(df1.shape)\n",
    "print(df2.shape)\n",
    "print(df3.shape)\n",
    "print(df4.shape)"
   ]
  },
  {
   "cell_type": "code",
   "execution_count": 12,
   "metadata": {},
   "outputs": [],
   "source": [
    "df = df1.append(df2, ignore_index = True)\n",
    "df = df.append(df3, ignore_index = True)\n",
    "df = df.append(df4, ignore_index = True)"
   ]
  },
  {
   "cell_type": "code",
   "execution_count": 13,
   "metadata": {},
   "outputs": [
    {
     "data": {
      "text/html": [
       "<div>\n",
       "<style scoped>\n",
       "    .dataframe tbody tr th:only-of-type {\n",
       "        vertical-align: middle;\n",
       "    }\n",
       "\n",
       "    .dataframe tbody tr th {\n",
       "        vertical-align: top;\n",
       "    }\n",
       "\n",
       "    .dataframe thead th {\n",
       "        text-align: right;\n",
       "    }\n",
       "</style>\n",
       "<table border=\"1\" class=\"dataframe\">\n",
       "  <thead>\n",
       "    <tr style=\"text-align: right;\">\n",
       "      <th></th>\n",
       "      <th>PostalCode</th>\n",
       "      <th>Borough</th>\n",
       "      <th>Neighborhood</th>\n",
       "      <th>Latitude</th>\n",
       "      <th>Longitude</th>\n",
       "    </tr>\n",
       "  </thead>\n",
       "  <tbody>\n",
       "    <tr>\n",
       "      <th>0</th>\n",
       "      <td>M3A</td>\n",
       "      <td>North York</td>\n",
       "      <td>Parkwoods</td>\n",
       "      <td>43.7611</td>\n",
       "      <td>-79.3241</td>\n",
       "    </tr>\n",
       "    <tr>\n",
       "      <th>1</th>\n",
       "      <td>M4A</td>\n",
       "      <td>North York</td>\n",
       "      <td>Victoria Village</td>\n",
       "      <td>43.7327</td>\n",
       "      <td>-79.3112</td>\n",
       "    </tr>\n",
       "    <tr>\n",
       "      <th>2</th>\n",
       "      <td>M5A</td>\n",
       "      <td>Downtown Toronto</td>\n",
       "      <td>Regent Park</td>\n",
       "      <td>43.6607</td>\n",
       "      <td>-79.3605</td>\n",
       "    </tr>\n",
       "    <tr>\n",
       "      <th>3</th>\n",
       "      <td>M6A</td>\n",
       "      <td>North York</td>\n",
       "      <td>Lawrence Manor</td>\n",
       "      <td>43.7221</td>\n",
       "      <td>-79.4375</td>\n",
       "    </tr>\n",
       "    <tr>\n",
       "      <th>4</th>\n",
       "      <td>M7A</td>\n",
       "      <td>Downtown Toronto</td>\n",
       "      <td>Queen's Park</td>\n",
       "      <td>43.6597</td>\n",
       "      <td>-79.3903</td>\n",
       "    </tr>\n",
       "  </tbody>\n",
       "</table>\n",
       "</div>"
      ],
      "text/plain": [
       "  PostalCode           Borough      Neighborhood Latitude Longitude\n",
       "0        M3A        North York         Parkwoods  43.7611  -79.3241\n",
       "1        M4A        North York  Victoria Village  43.7327  -79.3112\n",
       "2        M5A  Downtown Toronto       Regent Park  43.6607  -79.3605\n",
       "3        M6A        North York    Lawrence Manor  43.7221  -79.4375\n",
       "4        M7A  Downtown Toronto      Queen's Park  43.6597  -79.3903"
      ]
     },
     "execution_count": 13,
     "metadata": {},
     "output_type": "execute_result"
    }
   ],
   "source": [
    "df.head()"
   ]
  },
  {
   "cell_type": "markdown",
   "metadata": {},
   "source": [
    "Cleaning the dataframe"
   ]
  },
  {
   "cell_type": "code",
   "execution_count": 14,
   "metadata": {},
   "outputs": [
    {
     "data": {
      "text/plain": [
       "(99, 5)"
      ]
     },
     "execution_count": 14,
     "metadata": {},
     "output_type": "execute_result"
    }
   ],
   "source": [
    "clean_df = df.drop(to_drop_unknown)\n",
    "clean_df['Latitude'].replace('', np.nan, inplace=True)\n",
    "clean_df.dropna(subset=['Latitude'], inplace=True)\n",
    "clean_df.shape"
   ]
  },
  {
   "cell_type": "code",
   "execution_count": 15,
   "metadata": {},
   "outputs": [
    {
     "data": {
      "text/html": [
       "<div>\n",
       "<style scoped>\n",
       "    .dataframe tbody tr th:only-of-type {\n",
       "        vertical-align: middle;\n",
       "    }\n",
       "\n",
       "    .dataframe tbody tr th {\n",
       "        vertical-align: top;\n",
       "    }\n",
       "\n",
       "    .dataframe thead th {\n",
       "        text-align: right;\n",
       "    }\n",
       "</style>\n",
       "<table border=\"1\" class=\"dataframe\">\n",
       "  <thead>\n",
       "    <tr style=\"text-align: right;\">\n",
       "      <th></th>\n",
       "      <th>PostalCode</th>\n",
       "      <th>Borough</th>\n",
       "      <th>Neighborhood</th>\n",
       "      <th>Latitude</th>\n",
       "      <th>Longitude</th>\n",
       "    </tr>\n",
       "  </thead>\n",
       "  <tbody>\n",
       "    <tr>\n",
       "      <th>0</th>\n",
       "      <td>M3A</td>\n",
       "      <td>North York</td>\n",
       "      <td>Parkwoods</td>\n",
       "      <td>43.761124</td>\n",
       "      <td>-79.3241</td>\n",
       "    </tr>\n",
       "    <tr>\n",
       "      <th>1</th>\n",
       "      <td>M4A</td>\n",
       "      <td>North York</td>\n",
       "      <td>Victoria Village</td>\n",
       "      <td>43.732658</td>\n",
       "      <td>-79.3112</td>\n",
       "    </tr>\n",
       "    <tr>\n",
       "      <th>2</th>\n",
       "      <td>M5A</td>\n",
       "      <td>Downtown Toronto</td>\n",
       "      <td>Regent Park</td>\n",
       "      <td>43.660706</td>\n",
       "      <td>-79.3605</td>\n",
       "    </tr>\n",
       "    <tr>\n",
       "      <th>3</th>\n",
       "      <td>M6A</td>\n",
       "      <td>North York</td>\n",
       "      <td>Lawrence Manor</td>\n",
       "      <td>43.722079</td>\n",
       "      <td>-79.4375</td>\n",
       "    </tr>\n",
       "    <tr>\n",
       "      <th>4</th>\n",
       "      <td>M7A</td>\n",
       "      <td>Downtown Toronto</td>\n",
       "      <td>Queen's Park</td>\n",
       "      <td>43.659659</td>\n",
       "      <td>-79.3903</td>\n",
       "    </tr>\n",
       "    <tr>\n",
       "      <th>5</th>\n",
       "      <td>M9A</td>\n",
       "      <td>Etobicoke</td>\n",
       "      <td>Islington Avenue</td>\n",
       "      <td>43.670779</td>\n",
       "      <td>-79.5349</td>\n",
       "    </tr>\n",
       "    <tr>\n",
       "      <th>6</th>\n",
       "      <td>M1B</td>\n",
       "      <td>Scarborough</td>\n",
       "      <td>Malvern</td>\n",
       "      <td>43.809196</td>\n",
       "      <td>-79.2217</td>\n",
       "    </tr>\n",
       "    <tr>\n",
       "      <th>7</th>\n",
       "      <td>M3B</td>\n",
       "      <td>North York</td>\n",
       "      <td>Don Mills</td>\n",
       "      <td>43.775347</td>\n",
       "      <td>-79.3459</td>\n",
       "    </tr>\n",
       "    <tr>\n",
       "      <th>8</th>\n",
       "      <td>M4B</td>\n",
       "      <td>East York</td>\n",
       "      <td>Parkview Hill</td>\n",
       "      <td>43.706298</td>\n",
       "      <td>-79.3219</td>\n",
       "    </tr>\n",
       "    <tr>\n",
       "      <th>9</th>\n",
       "      <td>M5B</td>\n",
       "      <td>Downtown Toronto</td>\n",
       "      <td>Garden District</td>\n",
       "      <td>43.656500</td>\n",
       "      <td>-79.3771</td>\n",
       "    </tr>\n",
       "    <tr>\n",
       "      <th>10</th>\n",
       "      <td>M6B</td>\n",
       "      <td>North York</td>\n",
       "      <td>Glencairn</td>\n",
       "      <td>43.708712</td>\n",
       "      <td>-79.4407</td>\n",
       "    </tr>\n",
       "    <tr>\n",
       "      <th>11</th>\n",
       "      <td>M9B</td>\n",
       "      <td>Etobicoke</td>\n",
       "      <td>West Deane Park</td>\n",
       "      <td>43.663199</td>\n",
       "      <td>-79.5686</td>\n",
       "    </tr>\n",
       "  </tbody>\n",
       "</table>\n",
       "</div>"
      ],
      "text/plain": [
       "   PostalCode           Borough      Neighborhood   Latitude Longitude\n",
       "0         M3A        North York         Parkwoods  43.761124  -79.3241\n",
       "1         M4A        North York  Victoria Village  43.732658  -79.3112\n",
       "2         M5A  Downtown Toronto       Regent Park  43.660706  -79.3605\n",
       "3         M6A        North York    Lawrence Manor  43.722079  -79.4375\n",
       "4         M7A  Downtown Toronto      Queen's Park  43.659659  -79.3903\n",
       "5         M9A         Etobicoke  Islington Avenue  43.670779  -79.5349\n",
       "6         M1B       Scarborough           Malvern  43.809196  -79.2217\n",
       "7         M3B        North York         Don Mills  43.775347  -79.3459\n",
       "8         M4B         East York     Parkview Hill  43.706298  -79.3219\n",
       "9         M5B  Downtown Toronto   Garden District  43.656500  -79.3771\n",
       "10        M6B        North York         Glencairn  43.708712  -79.4407\n",
       "11        M9B         Etobicoke   West Deane Park  43.663199  -79.5686"
      ]
     },
     "execution_count": 15,
     "metadata": {},
     "output_type": "execute_result"
    }
   ],
   "source": [
    "clean_df.head(12)"
   ]
  },
  {
   "cell_type": "markdown",
   "metadata": {},
   "source": [
    "Mapping the arear of Neighbourhood of Toronto"
   ]
  },
  {
   "cell_type": "code",
   "execution_count": 16,
   "metadata": {},
   "outputs": [
    {
     "name": "stdout",
     "output_type": "stream",
     "text": [
      "The geograpical coordinate of Toronto are 43.6534817, -79.3839347.\n"
     ]
    }
   ],
   "source": [
    "address = 'Toronto'\n",
    "try:\n",
    "    location = geolocator.geocode(address)\n",
    "    latitude = location.latitude\n",
    "    longitude = location.longitude\n",
    "    print('The geograpical coordinate of {} are {}, {}.'.format(address, latitude, longitude))\n",
    "    df.loc[index, 'Latitude'] = latitude\n",
    "    df.loc[index, 'Longitude'] = longitude\n",
    "except AttributeError:\n",
    "    print('Cannot do: {}, will drop index: {}'.format(address, index))"
   ]
  },
  {
   "cell_type": "code",
   "execution_count": 17,
   "metadata": {},
   "outputs": [
    {
     "data": {
      "text/html": [
       "<div style=\"width:100%;\"><div style=\"position:relative;width:100%;height:0;padding-bottom:60%;\"><span style=\"color:#565656\">Make this Notebook Trusted to load map: File -> Trust Notebook</span><iframe src=\"about:blank\" style=\"position:absolute;width:100%;height:100%;left:0;top:0;border:none !important;\" data-html=PCFET0NUWVBFIGh0bWw+CjxoZWFkPiAgICAKICAgIDxtZXRhIGh0dHAtZXF1aXY9ImNvbnRlbnQtdHlwZSIgY29udGVudD0idGV4dC9odG1sOyBjaGFyc2V0PVVURi04IiAvPgogICAgCiAgICAgICAgPHNjcmlwdD4KICAgICAgICAgICAgTF9OT19UT1VDSCA9IGZhbHNlOwogICAgICAgICAgICBMX0RJU0FCTEVfM0QgPSBmYWxzZTsKICAgICAgICA8L3NjcmlwdD4KICAgIAogICAgPHNjcmlwdCBzcmM9Imh0dHBzOi8vY2RuLmpzZGVsaXZyLm5ldC9ucG0vbGVhZmxldEAxLjYuMC9kaXN0L2xlYWZsZXQuanMiPjwvc2NyaXB0PgogICAgPHNjcmlwdCBzcmM9Imh0dHBzOi8vY29kZS5qcXVlcnkuY29tL2pxdWVyeS0xLjEyLjQubWluLmpzIj48L3NjcmlwdD4KICAgIDxzY3JpcHQgc3JjPSJodHRwczovL21heGNkbi5ib290c3RyYXBjZG4uY29tL2Jvb3RzdHJhcC8zLjIuMC9qcy9ib290c3RyYXAubWluLmpzIj48L3NjcmlwdD4KICAgIDxzY3JpcHQgc3JjPSJodHRwczovL2NkbmpzLmNsb3VkZmxhcmUuY29tL2FqYXgvbGlicy9MZWFmbGV0LmF3ZXNvbWUtbWFya2Vycy8yLjAuMi9sZWFmbGV0LmF3ZXNvbWUtbWFya2Vycy5qcyI+PC9zY3JpcHQ+CiAgICA8bGluayByZWw9InN0eWxlc2hlZXQiIGhyZWY9Imh0dHBzOi8vY2RuLmpzZGVsaXZyLm5ldC9ucG0vbGVhZmxldEAxLjYuMC9kaXN0L2xlYWZsZXQuY3NzIi8+CiAgICA8bGluayByZWw9InN0eWxlc2hlZXQiIGhyZWY9Imh0dHBzOi8vbWF4Y2RuLmJvb3RzdHJhcGNkbi5jb20vYm9vdHN0cmFwLzMuMi4wL2Nzcy9ib290c3RyYXAubWluLmNzcyIvPgogICAgPGxpbmsgcmVsPSJzdHlsZXNoZWV0IiBocmVmPSJodHRwczovL21heGNkbi5ib290c3RyYXBjZG4uY29tL2Jvb3RzdHJhcC8zLjIuMC9jc3MvYm9vdHN0cmFwLXRoZW1lLm1pbi5jc3MiLz4KICAgIDxsaW5rIHJlbD0ic3R5bGVzaGVldCIgaHJlZj0iaHR0cHM6Ly9tYXhjZG4uYm9vdHN0cmFwY2RuLmNvbS9mb250LWF3ZXNvbWUvNC42LjMvY3NzL2ZvbnQtYXdlc29tZS5taW4uY3NzIi8+CiAgICA8bGluayByZWw9InN0eWxlc2hlZXQiIGhyZWY9Imh0dHBzOi8vY2RuanMuY2xvdWRmbGFyZS5jb20vYWpheC9saWJzL0xlYWZsZXQuYXdlc29tZS1tYXJrZXJzLzIuMC4yL2xlYWZsZXQuYXdlc29tZS1tYXJrZXJzLmNzcyIvPgogICAgPGxpbmsgcmVsPSJzdHlsZXNoZWV0IiBocmVmPSJodHRwczovL3Jhd2Nkbi5naXRoYWNrLmNvbS9weXRob24tdmlzdWFsaXphdGlvbi9mb2xpdW0vbWFzdGVyL2ZvbGl1bS90ZW1wbGF0ZXMvbGVhZmxldC5hd2Vzb21lLnJvdGF0ZS5jc3MiLz4KICAgIDxzdHlsZT5odG1sLCBib2R5IHt3aWR0aDogMTAwJTtoZWlnaHQ6IDEwMCU7bWFyZ2luOiAwO3BhZGRpbmc6IDA7fTwvc3R5bGU+CiAgICA8c3R5bGU+I21hcCB7cG9zaXRpb246YWJzb2x1dGU7dG9wOjA7Ym90dG9tOjA7cmlnaHQ6MDtsZWZ0OjA7fTwvc3R5bGU+CiAgICAKICAgICAgICAgICAgPG1ldGEgbmFtZT0idmlld3BvcnQiIGNvbnRlbnQ9IndpZHRoPWRldmljZS13aWR0aCwKICAgICAgICAgICAgICAgIGluaXRpYWwtc2NhbGU9MS4wLCBtYXhpbXVtLXNjYWxlPTEuMCwgdXNlci1zY2FsYWJsZT1ubyIgLz4KICAgICAgICAgICAgPHN0eWxlPgogICAgICAgICAgICAgICAgI21hcF8yZDc3Y2I2NGRhODg0MGUyYjBhZmViOGU0MWE3ZmQ1MyB7CiAgICAgICAgICAgICAgICAgICAgcG9zaXRpb246IHJlbGF0aXZlOwogICAgICAgICAgICAgICAgICAgIHdpZHRoOiAxMDAuMCU7CiAgICAgICAgICAgICAgICAgICAgaGVpZ2h0OiAxMDAuMCU7CiAgICAgICAgICAgICAgICAgICAgbGVmdDogMC4wJTsKICAgICAgICAgICAgICAgICAgICB0b3A6IDAuMCU7CiAgICAgICAgICAgICAgICB9CiAgICAgICAgICAgIDwvc3R5bGU+CiAgICAgICAgCjwvaGVhZD4KPGJvZHk+ICAgIAogICAgCiAgICAgICAgICAgIDxkaXYgY2xhc3M9ImZvbGl1bS1tYXAiIGlkPSJtYXBfMmQ3N2NiNjRkYTg4NDBlMmIwYWZlYjhlNDFhN2ZkNTMiID48L2Rpdj4KICAgICAgICAKPC9ib2R5Pgo8c2NyaXB0PiAgICAKICAgIAogICAgICAgICAgICB2YXIgbWFwXzJkNzdjYjY0ZGE4ODQwZTJiMGFmZWI4ZTQxYTdmZDUzID0gTC5tYXAoCiAgICAgICAgICAgICAgICAibWFwXzJkNzdjYjY0ZGE4ODQwZTJiMGFmZWI4ZTQxYTdmZDUzIiwKICAgICAgICAgICAgICAgIHsKICAgICAgICAgICAgICAgICAgICBjZW50ZXI6IFs0My42NTM0ODE3LCAtNzkuMzgzOTM0N10sCiAgICAgICAgICAgICAgICAgICAgY3JzOiBMLkNSUy5FUFNHMzg1NywKICAgICAgICAgICAgICAgICAgICB6b29tOiAxMSwKICAgICAgICAgICAgICAgICAgICB6b29tQ29udHJvbDogdHJ1ZSwKICAgICAgICAgICAgICAgICAgICBwcmVmZXJDYW52YXM6IGZhbHNlLAogICAgICAgICAgICAgICAgfQogICAgICAgICAgICApOwoKICAgICAgICAgICAgCgogICAgICAgIAogICAgCiAgICAgICAgICAgIHZhciB0aWxlX2xheWVyXzE5YTQ0YWUzMDI0MjQwMDZiZjMxYWM5NjU5ZjQxNmMzID0gTC50aWxlTGF5ZXIoCiAgICAgICAgICAgICAgICAiaHR0cHM6Ly97c30udGlsZS5vcGVuc3RyZWV0bWFwLm9yZy97en0ve3h9L3t5fS5wbmciLAogICAgICAgICAgICAgICAgeyJhdHRyaWJ1dGlvbiI6ICJEYXRhIGJ5IFx1MDAyNmNvcHk7IFx1MDAzY2EgaHJlZj1cImh0dHA6Ly9vcGVuc3RyZWV0bWFwLm9yZ1wiXHUwMDNlT3BlblN0cmVldE1hcFx1MDAzYy9hXHUwMDNlLCB1bmRlciBcdTAwM2NhIGhyZWY9XCJodHRwOi8vd3d3Lm9wZW5zdHJlZXRtYXAub3JnL2NvcHlyaWdodFwiXHUwMDNlT0RiTFx1MDAzYy9hXHUwMDNlLiIsICJkZXRlY3RSZXRpbmEiOiBmYWxzZSwgIm1heE5hdGl2ZVpvb20iOiAxOCwgIm1heFpvb20iOiAxOCwgIm1pblpvb20iOiAwLCAibm9XcmFwIjogZmFsc2UsICJvcGFjaXR5IjogMSwgInN1YmRvbWFpbnMiOiAiYWJjIiwgInRtcyI6IGZhbHNlfQogICAgICAgICAgICApLmFkZFRvKG1hcF8yZDc3Y2I2NGRhODg0MGUyYjBhZmViOGU0MWE3ZmQ1Myk7CiAgICAgICAgCjwvc2NyaXB0Pg== onload=\"this.contentDocument.open();this.contentDocument.write(atob(this.getAttribute('data-html')));this.contentDocument.close();\" allowfullscreen webkitallowfullscreen mozallowfullscreen></iframe></div></div>"
      ],
      "text/plain": [
       "<folium.folium.Map at 0x18f4b38b550>"
      ]
     },
     "execution_count": 17,
     "metadata": {},
     "output_type": "execute_result"
    }
   ],
   "source": [
    "my_map = folium.Map(location=[latitude, longitude], zoom_start= 11)\n",
    "my_map"
   ]
  },
  {
   "cell_type": "markdown",
   "metadata": {},
   "source": [
    "Showcasing map if not displayed in Github"
   ]
  },
  {
   "cell_type": "code",
   "execution_count": 18,
   "metadata": {},
   "outputs": [
    {
     "data": {
      "text/html": [
       "<img src=\"https://raw.githubusercontent.com/RohitLearner/IBM-Applied-D.S-Capstone-Project/master/Week%203/Results/Toronto_map.png\"/>"
      ],
      "text/plain": [
       "<IPython.core.display.Image object>"
      ]
     },
     "execution_count": 18,
     "metadata": {},
     "output_type": "execute_result"
    }
   ],
   "source": [
    "from IPython.display import Image\n",
    "from IPython.core.display import HTML \n",
    "Image(url= \"https://raw.githubusercontent.com/RohitLearner/IBM-Applied-D.S-Capstone-Project/master/Week%203/Results/Toronto_map.png\")"
   ]
  },
  {
   "cell_type": "markdown",
   "metadata": {},
   "source": [
    "Plotting the final neighborhood of Toronto Map"
   ]
  },
  {
   "cell_type": "code",
   "execution_count": 19,
   "metadata": {},
   "outputs": [
    {
     "data": {
      "text/plain": [
       "(91, 5)"
      ]
     },
     "execution_count": 19,
     "metadata": {},
     "output_type": "execute_result"
    }
   ],
   "source": [
    "n = 91  # Unable to show Marker in Map if Marker > 91\n",
    "clean_df1 = clean_df.tail(n)\n",
    "clean_df1.shape"
   ]
  },
  {
   "cell_type": "code",
   "execution_count": 20,
   "metadata": {},
   "outputs": [
    {
     "data": {
      "text/html": [
       "<div style=\"width:100%;\"><div style=\"position:relative;width:100%;height:0;padding-bottom:60%;\"><span style=\"color:#565656\">Make this Notebook Trusted to load map: File -> Trust Notebook</span><iframe src=\"about:blank\" style=\"position:absolute;width:100%;height:100%;left:0;top:0;border:none !important;\" data-html=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 onload=\"this.contentDocument.open();this.contentDocument.write(atob(this.getAttribute('data-html')));this.contentDocument.close();\" allowfullscreen webkitallowfullscreen mozallowfullscreen></iframe></div></div>"
      ],
      "text/plain": [
       "<folium.folium.Map at 0x18f4b416640>"
      ]
     },
     "execution_count": 20,
     "metadata": {},
     "output_type": "execute_result"
    }
   ],
   "source": [
    "import folium\n",
    "my_map = folium.Map(location=[latitude, longitude], zoom_start=11)\n",
    "# add markers to map\n",
    "for lat, lng, label in zip(clean_df1['Latitude'], clean_df1['Longitude'], clean_df1['Neighborhood']):\n",
    "    label = folium.Popup(label)\n",
    "    folium.CircleMarker(\n",
    "        [lat, lng],\n",
    "        radius=5,\n",
    "        popup=label,\n",
    "        color='blue',\n",
    "        fill=True,\n",
    "        fill_color='#3186cc',\n",
    "        fill_opacity=0.7,\n",
    "        parse_html=False).add_to(my_map)  \n",
    "my_map"
   ]
  },
  {
   "cell_type": "markdown",
   "metadata": {},
   "source": [
    "Showcasing map if not displayed in Github"
   ]
  },
  {
   "cell_type": "code",
   "execution_count": 21,
   "metadata": {},
   "outputs": [
    {
     "data": {
      "text/html": [
       "<img src=\"https://raw.githubusercontent.com/RohitLearner/IBM-Applied-D.S-Capstone-Project/master/Week%203/Results/Toronto_Marked_Map.png\"/>"
      ],
      "text/plain": [
       "<IPython.core.display.Image object>"
      ]
     },
     "execution_count": 21,
     "metadata": {},
     "output_type": "execute_result"
    }
   ],
   "source": [
    "from IPython.display import Image\n",
    "from IPython.core.display import HTML \n",
    "Image(url= \"https://raw.githubusercontent.com/RohitLearner/IBM-Applied-D.S-Capstone-Project/master/Week%203/Results/Toronto_Marked_Map.png\")"
   ]
  }
 ],
 "metadata": {
  "kernelspec": {
   "display_name": "Python 3",
   "language": "python",
   "name": "python3"
  },
  "language_info": {
   "codemirror_mode": {
    "name": "ipython",
    "version": 3
   },
   "file_extension": ".py",
   "mimetype": "text/x-python",
   "name": "python",
   "nbconvert_exporter": "python",
   "pygments_lexer": "ipython3",
   "version": "3.8.3"
  }
 },
 "nbformat": 4,
 "nbformat_minor": 4
}
